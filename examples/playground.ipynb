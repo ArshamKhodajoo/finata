{
 "nbformat": 4,
 "nbformat_minor": 2,
 "metadata": {
  "language_info": {
   "name": "python",
   "codemirror_mode": {
    "name": "ipython",
    "version": 3
   },
   "version": "3.6.9-final"
  },
  "orig_nbformat": 2,
  "file_extension": ".py",
  "mimetype": "text/x-python",
  "name": "python",
  "npconvert_exporter": "python",
  "pygments_lexer": "ipython3",
  "version": 3,
  "kernelspec": {
   "name": "python36964bitbeac9eb9b327436c94913d172861356c",
   "display_name": "Python 3.6.9 64-bit"
  }
 },
 "cells": [
  {
   "cell_type": "code",
   "execution_count": 0,
   "metadata": {},
   "outputs": [],
   "source": [
    "from finata.datasets import AAPL\n",
    "from finata.brain.LSTM import LSTM_net\n",
    "import numpy as np\n",
    "\n",
    "from finata.utils.preprocessing import flatten\n",
    "from finata.utils.graph import plot"
   ]
  },
  {
   "cell_type": "code",
   "execution_count": 0,
   "metadata": {},
   "outputs": [],
   "source": [
    "# load data\n",
    "train, test, gen_train, gen_test = \\\n",
    "AAPL.load_data(sequence=100, batch_size=1)"
   ]
  },
  {
   "cell_type": "code",
   "execution_count": 0,
   "metadata": {},
   "outputs": [],
   "source": [
    "# run lstm network\n",
    "\n",
    "lstm = LSTM_net(input_shape=(100, 1), epochs=2)\n",
    "lstm.train_on_sample_model()\n",
    "lstm.train(gen_train)"
   ]
  },
  {
   "cell_type": "code",
   "execution_count": 7,
   "metadata": {},
   "outputs": [],
   "source": [
    "y_prediction = lstm.predict(gen_test)\n",
    "\n",
    "y_real, y_prediction = flatten(gen_test, y_prediction)"
   ]
  },
  {
   "cell_type": "code",
   "execution_count": 6,
   "metadata": {},
   "outputs": [
    {
     "name": "stderr",
     "output_type": "stream",
     "text": "UsageError: Line magic function `%` not found.\n"
    }
   ],
   "source": [
    "% matplotlib inline\n",
    "\n",
    "plot([\n",
    "        (y_real, 'real data'),\n",
    "        (y_predic, 'predicted data')\n",
    "    ],\n",
    "    save='result.png'\n",
    ")"
   ]
  },
  {
   "cell_type": "code",
   "execution_count": null,
   "metadata": {},
   "outputs": [],
   "source": []
  }
 ]
}
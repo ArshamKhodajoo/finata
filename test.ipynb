{
 "nbformat": 4,
 "nbformat_minor": 2,
 "metadata": {
  "language_info": {
   "name": "python",
   "codemirror_mode": {
    "name": "ipython",
    "version": 3
   }
  },
  "orig_nbformat": 2,
  "file_extension": ".py",
  "mimetype": "text/x-python",
  "name": "python",
  "npconvert_exporter": "python",
  "pygments_lexer": "ipython3",
  "version": 3
 },
 "cells": [
  {
   "cell_type": "code",
   "execution_count": null,
   "metadata": {},
   "outputs": [
    {
     "evalue": "Error: Jupyter cannot be started. Error attempting to locate jupyter: Error: Module 'notebook' not installed.",
     "output_type": "error"
    }
   ],
   "source": [
    "# loading dataset (bitcoin price)\n",
    "from finata.datasets import bitcoin\n",
    "\n",
    "# load data, lates 10'000 samples for test data.\n",
    "df, df_test = bitcoin.load_as_DataFrame()"
   ]
  },
  {
   "cell_type": "code",
   "execution_count": null,
   "metadata": {},
   "outputs": [
    {
     "evalue": "Error: Jupyter cannot be started. Error attempting to locate jupyter: Error: Module 'notebook' not installed.",
     "output_type": "error"
    }
   ],
   "source": [
    "# turning data into sequence of prices\n",
    "from finata.utils.preprocessing import transform_data\n",
    "\n",
    "# we just want to predict high volumes\n",
    "x, y = transform_data(df[['High']])"
   ]
  },
  {
   "cell_type": "code",
   "execution_count": null,
   "metadata": {},
   "outputs": [
    {
     "evalue": "Error: Jupyter cannot be started. Error attempting to locate jupyter: Error: Module 'notebook' not installed.",
     "output_type": "error"
    }
   ],
   "source": [
    "# define, load and train model\n",
    "from finata.brain.lstm_sample import simple_lstm_model\n",
    "\n",
    "model = simple_lstm_model(\n",
    "    x, y,\n",
    "    input_shape=(10, 1),\n",
    "    optimizer='adam',\n",
    "    loss= 'mae',\n",
    "    epochs=10,\n",
    "    log_dir='./result',\n",
    "    save_to='./result.h5'\n",
    ")"
   ]
  },
  {
   "cell_type": "code",
   "execution_count": null,
   "metadata": {},
   "outputs": [
    {
     "evalue": "Error: Jupyter cannot be started. Error attempting to locate jupyter: Error: Module 'notebook' not installed.",
     "output_type": "error"
    }
   ],
   "source": [
    "# plot prediction vs real price state\n",
    "from finata.utils.plots import plot_linear_price\n",
    "\n",
    "real_data = df_test[['High']]\n",
    "predictions = model.predict(real_data)"
   ]
  },
  {
   "cell_type": "code",
   "execution_count": null,
   "metadata": {},
   "outputs": [
    {
     "evalue": "Error: Jupyter cannot be started. Error attempting to locate jupyter: Error: Module 'notebook' not installed.",
     "output_type": "error"
    }
   ],
   "source": [
    "plot_linear_price(read_data, save=False)\n"
   ]
  },
  {
   "cell_type": "code",
   "execution_count": null,
   "metadata": {},
   "outputs": [
    {
     "evalue": "Error: Jupyter cannot be started. Error attempting to locate jupyter: Error: Module 'notebook' not installed.",
     "output_type": "error"
    }
   ],
   "source": [
    "plot_linear_price(predictions, save=False\n",
    ")"
   ]
  }
 ]
}